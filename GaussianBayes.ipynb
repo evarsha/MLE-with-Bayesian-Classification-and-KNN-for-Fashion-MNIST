{
 "cells": [
  {
   "cell_type": "markdown",
   "metadata": {},
   "source": [
    "###LOADING LIBRARIES"
   ]
  },
  {
   "cell_type": "code",
   "execution_count": 1,
   "metadata": {},
   "outputs": [],
   "source": [
    "\n",
    "import numpy as np\n",
    "\n",
    "import os\n",
    "import gzip\n",
    "\n",
    "import mnist_reader\n",
    "\n",
    "import matplotlib.pyplot as plt"
   ]
  },
  {
   "cell_type": "markdown",
   "metadata": {},
   "source": [
    "###LOADING BUILT-IN FUNCTIONS"
   ]
  },
  {
   "cell_type": "code",
   "execution_count": 2,
   "metadata": {},
   "outputs": [],
   "source": [
    "\n",
    "from sklearn.neighbors import KNeighborsClassifier\n",
    "from sklearn.naive_bayes import GaussianNB\n",
    "\n",
    "from sklearn.metrics import accuracy_score\n",
    "\n",
    "\n",
    "from sklearn.decomposition import PCA\n",
    "\n",
    "from sklearn.discriminant_analysis import LinearDiscriminantAnalysis\n"
   ]
  },
  {
   "cell_type": "code",
   "execution_count": 3,
   "metadata": {},
   "outputs": [],
   "source": [
    "###LOADING MNIST DATASET\n",
    "\n",
    "\n",
    "def load_mnist(path, kind='train'):\n",
    "   \n",
    "    \"\"\"Load MNIST data from `path`\"\"\"\n",
    "    labels_path = os.path.join(path,'%s-labels-idx1-ubyte.gz'% kind)\n",
    "\n",
    "    images_path = os.path.join(path,'%s-images-idx3-ubyte.gz'% kind)\n",
    "\n",
    "    with gzip.open(labels_path, 'rb') as lbpath:\n",
    "        labels = np.frombuffer(lbpath.read(), dtype=np.uint8,offset=8)\n",
    "\n",
    "    with gzip.open(images_path, 'rb') as imgpath:\n",
    "        images = np.frombuffer(imgpath.read(), dtype=np.uint8,offset=16).reshape(len(labels), 784)\n",
    "\n",
    "    print(\"Dataset Loaded\")\n",
    "    \n",
    "    return images, labels"
   ]
  },
  {
   "cell_type": "code",
   "execution_count": 4,
   "metadata": {},
   "outputs": [],
   "source": [
    "###LOADING TRAIN AND TEST SET FEATURES AND LABELS\n",
    "\n",
    "\n",
    "\n",
    "X_train, y_train = mnist_reader.load_mnist('data/fashion', kind='train')\n",
    "X_test, y_test = mnist_reader.load_mnist('data/fashion', kind='t10k')\n"
   ]
  },
  {
   "cell_type": "code",
   "execution_count": 5,
   "metadata": {},
   "outputs": [
    {
     "name": "stdout",
     "output_type": "stream",
     "text": [
      "Feature Train and Test datasets are normalized\n",
      "Shape of Train set features (X_train) :   (60000, 784)\n",
      "Shape of Train set labels (y_train) :   (60000,)\n",
      "Shape of Test set features (X_test) :   (10000, 784)\n",
      "Shape of Test set labels (y_test) :   (10000,)\n"
     ]
    }
   ],
   "source": [
    "###NORMALIZING AND CHECKING THE SHAPES OF TRAIN AND TEST SETS\n",
    "\n",
    "\n",
    "\n",
    "X_train = X_train/255\n",
    "\n",
    "X_test = X_test/255\n",
    "\n",
    "print(\"Feature Train and Test datasets are normalized\")\n",
    "\n",
    "#print(X_train[1])\n",
    "\n",
    "#X_train = X_train.reshape(X_train.shape).T   \n",
    "\n",
    "#y_train = y_train[np.newaxis]\n",
    "\n",
    "#X_test = X_test.reshape(X_test.shape).T   \n",
    "\n",
    "#y_test = y_test[np.newaxis]\n",
    "\n",
    "print(\"Shape of Train set features (X_train) :  \",X_train.shape)\n",
    "print(\"Shape of Train set labels (y_train) :  \",y_train.shape)\n",
    "print(\"Shape of Test set features (X_test) :  \",X_test.shape)\n",
    "print(\"Shape of Test set labels (y_test) :  \",y_test.shape)"
   ]
  },
  {
   "cell_type": "code",
   "execution_count": 6,
   "metadata": {},
   "outputs": [
    {
     "name": "stdout",
     "output_type": "stream",
     "text": [
      "0.0\n",
      "60000\n"
     ]
    }
   ],
   "source": [
    "###  SORTING THE FEATURES AND LABELS\n",
    "\n",
    "\n",
    "X_train_ord=[]\n",
    "y_train_ord=[]\n",
    "\n",
    "\n",
    "for i in range(0,max(y_train)+1):\n",
    "    for j in range(0,len(y_train)):\n",
    "        if y_train[j] == i:\n",
    "            \n",
    "            X_train_ord.append(X_train[j])\n",
    "            y_train_ord.append(y_train[j])\n",
    "                    \n",
    "X_train = np.asarray(X_train_ord)\n",
    "y_train = np.asarray(y_train_ord)\n",
    "\n",
    "print(X_train[59999][783])\n",
    "#print(y_train[0:5])\n",
    "print(X_train.shape[0])\n",
    "#print(X_train[1])\n",
    "#A = np.cov(X_train)"
   ]
  },
  {
   "cell_type": "code",
   "execution_count": 7,
   "metadata": {},
   "outputs": [
    {
     "name": "stdout",
     "output_type": "stream",
     "text": [
      "10000\n"
     ]
    }
   ],
   "source": [
    "###  SORTING THE FEATURES AND LABELS\n",
    "\n",
    "\n",
    "X_test_ord=[]\n",
    "y_test_ord=[]\n",
    "\n",
    "for i in range(0,max(y_test)+1):\n",
    "    for j in range(0,len(y_test)):\n",
    "        if y_test[j] == i:\n",
    "            \n",
    "            X_test_ord.append(X_test[j])\n",
    "            y_test_ord.append(y_test[j])\n",
    "                    \n",
    "X_test = np.asarray(X_test_ord)\n",
    "y_test = np.asarray(y_test_ord)\n",
    "\n",
    "\n",
    "print(len(X_test))\n"
   ]
  },
  {
   "cell_type": "code",
   "execution_count": 8,
   "metadata": {},
   "outputs": [],
   "source": [
    "### DEFINING MEAN AND COVARIANCE MATRIX:\n",
    "\n",
    "def mean_and_cov(X_train):\n",
    "    \n",
    "    mean = 0\n",
    "    sum = 0\n",
    "    mean_mat = []\n",
    "    cov = []\n",
    "    tot_cov = []\n",
    "    count = 0\n",
    "\n",
    "    \n",
    "    for i in range(0,max(y_train)+1):\n",
    "   \n",
    "        for j in range(0,X_train.shape[0]):\n",
    "           \n",
    "            if y_train[j]==i:\n",
    "                \n",
    "                cov.append(X_train[j])\n",
    "                sum = sum + X_train[j]\n",
    "                count = count + 1\n",
    "            \n",
    "        mean = sum/count\n",
    "        covar_mat = np.cov(np.asarray(cov).T) + 0.6*np.identity(X_train.shape[1])\n",
    "        cov = []\n",
    "        count = 0    \n",
    "        mean_mat.append(mean)\n",
    "        tot_cov.append(covar_mat)\n",
    "    \n",
    "    mean_mat = np.asarray(mean_mat)\n",
    "    print((np.asarray(tot_cov)).shape)\n",
    "    print(mean_mat)\n",
    "    print(mean_mat.shape)\n",
    "    \n",
    "    return mean, mean_mat, tot_cov"
   ]
  },
  {
   "cell_type": "code",
   "execution_count": 9,
   "metadata": {},
   "outputs": [
    {
     "name": "stdout",
     "output_type": "stream",
     "text": [
      "(10, 784, 784)\n",
      "[[5.22875817e-06 7.64705882e-05 5.79084967e-04 ... 1.19477124e-03\n",
      "  2.84967320e-04 5.94771242e-05]\n",
      " [5.22875817e-06 7.84313725e-05 5.81699346e-04 ... 1.60849673e-03\n",
      "  4.56209150e-04 6.20915033e-05]\n",
      " [5.88235294e-06 1.04575163e-04 7.49673203e-04 ... 3.04588235e-02\n",
      "  5.00588235e-03 4.40522876e-04]\n",
      " ...\n",
      " [2.87581699e-05 1.57516340e-04 1.06013072e-03 ... 6.88692810e-02\n",
      "  1.56202614e-02 1.14901961e-03]\n",
      " [3.13725490e-05 1.98039216e-04 1.15098039e-03 ... 8.51503268e-02\n",
      "  2.23986928e-02 2.04052288e-03]\n",
      " [3.13725490e-05 2.26797386e-04 1.17973856e-03 ... 1.06130719e-01\n",
      "  3.21176471e-02 2.77973856e-03]]\n",
      "(10, 784)\n"
     ]
    }
   ],
   "source": [
    "mean, mean_mat, tot_cov = mean_and_cov(X_train)"
   ]
  },
  {
   "cell_type": "code",
   "execution_count": 10,
   "metadata": {},
   "outputs": [],
   "source": [
    "def max_likelihood(features, mean_mat, tot_cov):\n",
    "    \n",
    "    \n",
    "    numen = np.subtract(features, mean_mat)\n",
    "   \n",
    "    denom = np.matmul(numen.T, np.linalg.inv(tot_cov))\n",
    "    \n",
    "    denom = np.dot(denom,numen) \n",
    "   \n",
    "    mle = -(denom + np.log(np.linalg.det(tot_cov)))/2\n",
    "    \n",
    "    return mle\n",
    "  "
   ]
  },
  {
   "cell_type": "code",
   "execution_count": 11,
   "metadata": {},
   "outputs": [
    {
     "name": "stdout",
     "output_type": "stream",
     "text": [
      "(784, 1)\n"
     ]
    }
   ],
   "source": [
    "b = X_test[i].reshape(X_test[i].shape[0],1)\n",
    "print(b.shape)"
   ]
  },
  {
   "cell_type": "code",
   "execution_count": 12,
   "metadata": {},
   "outputs": [
    {
     "name": "stdout",
     "output_type": "stream",
     "text": [
      "0\n",
      "500\n",
      "1000\n",
      "1500\n",
      "2000\n",
      "2500\n",
      "3000\n",
      "3500\n",
      "4000\n",
      "4500\n",
      "5000\n",
      "5500\n",
      "6000\n",
      "6500\n",
      "7000\n",
      "7500\n",
      "8000\n",
      "8500\n",
      "9000\n",
      "9500\n"
     ]
    }
   ],
   "source": [
    "mle_test = 0\n",
    "mle_pred = []\n",
    "j=0\n",
    "\n",
    "for i in range(0, len(X_test)):\n",
    "    for cls in range(0,max(y_test)+1):\n",
    "        X_test2 = X_test[i].reshape(X_test[i].shape[0],1)\n",
    "        mean_mat2 = mean_mat[cls].reshape(mean_mat[cls].shape[0],1)\n",
    "        tot_cov2 = tot_cov[cls].reshape(tot_cov[cls].shape[0],tot_cov[cls].shape[0])\n",
    "        #print(X_test2.shape)\n",
    "        #print(mean_mat[cls].shape)\n",
    "        #print(tot_cov[cls].shape)\n",
    "        mle_test_current = max_likelihood(X_test2, mean_mat2, tot_cov2)\n",
    "        #print(mle_test_current)\n",
    "        \n",
    "        if mle_test_current > mle_test:\n",
    "            mle_test_current = mle_test\n",
    "            mle_pred_current = cls\n",
    "            \n",
    "    mle_pred.append(mle_pred_current)\n",
    "    if i%500==0:\n",
    "        print(i)\n",
    "            \n",
    "\n"
   ]
  },
  {
   "cell_type": "code",
   "execution_count": 20,
   "metadata": {},
   "outputs": [
    {
     "name": "stdout",
     "output_type": "stream",
     "text": [
      "Train accuracy of Bayes Classifier:  58.778333333333336\n"
     ]
    }
   ],
   "source": [
    "## BAYES CLASSIFIER FOR Train SET ---- BUILT IN\n",
    "\n",
    "\n",
    "\n",
    "clf = GaussianNB()\n",
    "clf.fit(X_train,y_train)\n",
    "\n",
    "y_train_pred = clf.predict(X_train)\n",
    "\n",
    "train_acc = accuracy_score(y_train,y_train_pred)*100\n",
    "print(\"Train accuracy of Bayes Classifier: \",train_acc)"
   ]
  },
  {
   "cell_type": "code",
   "execution_count": 21,
   "metadata": {},
   "outputs": [
    {
     "name": "stdout",
     "output_type": "stream",
     "text": [
      "Test accuracy of Bayes Classifier:  58.56\n"
     ]
    }
   ],
   "source": [
    "###BAYES CLASSIFIER FOR TEST SET ---- BUILT IN\n",
    "\n",
    "\n",
    "\n",
    "clf = GaussianNB()\n",
    "clf.fit(X_train,y_train)\n",
    "\n",
    "y_test_pred = clf.predict(X_test)\n",
    "\n",
    "test_acc = accuracy_score(y_test,y_test_pred)*100\n",
    "print(\"Test accuracy of Bayes Classifier: \",test_acc)"
   ]
  },
  {
   "cell_type": "code",
   "execution_count": 22,
   "metadata": {},
   "outputs": [
    {
     "name": "stdout",
     "output_type": "stream",
     "text": [
      "Shape of Feature Test set Before PCA:  (10000, 784)\n",
      "Shape of Feature Test set After PCA:  (10000, 50)\n",
      "Test accuracy of Bayes Classifier After PCA:  76.68\n"
     ]
    }
   ],
   "source": [
    "### PCA\n",
    "\n",
    "pca = PCA(n_components=50)\n",
    "\n",
    "X_train_pca = pca.fit_transform(X_train)\n",
    "\n",
    "X_test_pca = pca.transform(X_test)\n",
    "\n",
    "\n",
    "print(\"Shape of Feature Test set Before PCA: \", X_test.shape)\n",
    "print(\"Shape of Feature Test set After PCA: \", X_test_pca.shape)\n",
    "\n",
    "\n",
    "###BAYES CLASSIFIER FOR PCA TEST SET \n",
    "\n",
    "\n",
    "\n",
    "clf = GaussianNB()\n",
    "clf.fit(X_train_pca,y_train)\n",
    "\n",
    "y_test_pred = clf.predict(X_test_pca)\n",
    "\n",
    "test_acc_pca = accuracy_score(y_test,y_test_pred)*100\n",
    "print(\"Test accuracy of Bayes Classifier After PCA: \",test_acc_pca)\n",
    "\n"
   ]
  },
  {
   "cell_type": "code",
   "execution_count": 23,
   "metadata": {},
   "outputs": [
    {
     "name": "stdout",
     "output_type": "stream",
     "text": [
      "Shape of Feature Test set Before LDA:  (10000, 784)\n",
      "Shape of Feature Test set After LDA:  (10000, 9)\n",
      "Test accuracy of Bayes Classifier After LDA:  81.08999999999999\n"
     ]
    }
   ],
   "source": [
    "###  LDA\n",
    "\n",
    "\n",
    "lda = LinearDiscriminantAnalysis()\n",
    "\n",
    "X_train_lda = lda.fit_transform(X_train,y_train)\n",
    "\n",
    "X_test_lda = lda.transform(X_test)\n",
    "\n",
    "\n",
    "print(\"Shape of Feature Test set Before LDA: \", X_test.shape)\n",
    "print(\"Shape of Feature Test set After LDA: \", X_test_lda.shape)\n",
    "\n",
    "\n",
    "###BAYES CLASSIFIER FOR LDA TEST SET\n",
    "\n",
    "\n",
    "\n",
    "clf = GaussianNB()\n",
    "clf.fit(X_train_lda,y_train)\n",
    "\n",
    "y_test_pred = clf.predict(X_test_lda)\n",
    "\n",
    "test_acc_lda = accuracy_score(y_test,y_test_pred)*100\n",
    "print(\"Test accuracy of Bayes Classifier After LDA: \",test_acc_lda)\n",
    "\n",
    "\n"
   ]
  }
 ],
 "metadata": {
  "kernelspec": {
   "display_name": "Python 3",
   "language": "python",
   "name": "python3"
  },
  "language_info": {
   "codemirror_mode": {
    "name": "ipython",
    "version": 3
   },
   "file_extension": ".py",
   "mimetype": "text/x-python",
   "name": "python",
   "nbconvert_exporter": "python",
   "pygments_lexer": "ipython3",
   "version": "3.6.8"
  }
 },
 "nbformat": 4,
 "nbformat_minor": 2
}

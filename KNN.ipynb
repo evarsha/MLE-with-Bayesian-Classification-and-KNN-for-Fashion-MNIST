{
 "cells": [
  {
   "cell_type": "markdown",
   "metadata": {},
   "source": [
    "###LOADING LIBRARIES"
   ]
  },
  {
   "cell_type": "code",
   "execution_count": 1,
   "metadata": {},
   "outputs": [],
   "source": [
    "\n",
    "import numpy as np\n",
    "\n",
    "import os\n",
    "import gzip\n",
    "\n",
    "import mnist_reader\n",
    "\n",
    "import matplotlib.pyplot as plt"
   ]
  },
  {
   "cell_type": "markdown",
   "metadata": {},
   "source": [
    "###LOADING BUILT-IN FUNCTIONS"
   ]
  },
  {
   "cell_type": "code",
   "execution_count": 2,
   "metadata": {},
   "outputs": [],
   "source": [
    "\n",
    "from sklearn.neighbors import KNeighborsClassifier\n",
    "from sklearn.naive_bayes import GaussianNB\n",
    "\n",
    "from sklearn.metrics import accuracy_score\n",
    "\n",
    "\n",
    "from sklearn.decomposition import PCA\n",
    "\n",
    "from sklearn.discriminant_analysis import LinearDiscriminantAnalysis\n"
   ]
  },
  {
   "cell_type": "code",
   "execution_count": 3,
   "metadata": {},
   "outputs": [],
   "source": [
    "###LOADING MNIST DATASET\n",
    "\n",
    "\n",
    "def load_mnist(path, kind='train'):\n",
    "   \n",
    "    \"\"\"Load MNIST data from `path`\"\"\"\n",
    "    labels_path = os.path.join(path,'%s-labels-idx1-ubyte.gz'% kind)\n",
    "\n",
    "    images_path = os.path.join(path,'%s-images-idx3-ubyte.gz'% kind)\n",
    "\n",
    "    with gzip.open(labels_path, 'rb') as lbpath:\n",
    "        labels = np.frombuffer(lbpath.read(), dtype=np.uint8,offset=8)\n",
    "\n",
    "    with gzip.open(images_path, 'rb') as imgpath:\n",
    "        images = np.frombuffer(imgpath.read(), dtype=np.uint8,offset=16).reshape(len(labels), 784)\n",
    "\n",
    "    print(\"Dataset Loaded\")\n",
    "    \n",
    "    return images, labels"
   ]
  },
  {
   "cell_type": "code",
   "execution_count": 4,
   "metadata": {},
   "outputs": [],
   "source": [
    "###LOADING TRAIN AND TEST SET FEATURES AND LABELS\n",
    "\n",
    "\n",
    "\n",
    "X_train, y_train = mnist_reader.load_mnist('data/fashion', kind='train')\n",
    "X_test, y_test = mnist_reader.load_mnist('data/fashion', kind='t10k')\n"
   ]
  },
  {
   "cell_type": "code",
   "execution_count": 5,
   "metadata": {},
   "outputs": [
    {
     "name": "stdout",
     "output_type": "stream",
     "text": [
      "Feature Train and Test datasets are normalized\n",
      "Shape of Train set features (X_train) :   (60000, 784)\n",
      "Shape of Train set labels (y_train) :   (60000,)\n",
      "Shape of Test set features (X_test) :   (10000, 784)\n",
      "Shape of Test set labels (y_test) :   (10000,)\n"
     ]
    }
   ],
   "source": [
    "###NORMALIZING AND CHECKING THE SHAPES OF TRAIN AND TEST SETS\n",
    "\n",
    "\n",
    "\n",
    "X_train = X_train/255\n",
    "\n",
    "X_test = X_test/255\n",
    "\n",
    "print(\"Feature Train and Test datasets are normalized\")\n",
    "\n",
    "#print(X_train[1])\n",
    "\n",
    "#X_train = X_train.reshape(X_train.shape).T   \n",
    "\n",
    "#y_train = y_train[np.newaxis]\n",
    "\n",
    "#X_test = X_test.reshape(X_test.shape).T   \n",
    "\n",
    "#y_test = y_test[np.newaxis]\n",
    "\n",
    "print(\"Shape of Train set features (X_train) :  \",X_train.shape)\n",
    "print(\"Shape of Train set labels (y_train) :  \",y_train.shape)\n",
    "print(\"Shape of Test set features (X_test) :  \",X_test.shape)\n",
    "print(\"Shape of Test set labels (y_test) :  \",y_test.shape)"
   ]
  },
  {
   "cell_type": "code",
   "execution_count": 6,
   "metadata": {},
   "outputs": [
    {
     "name": "stdout",
     "output_type": "stream",
     "text": [
      "Train accuracy of Bayes Classifier:  58.778333333333336\n"
     ]
    }
   ],
   "source": [
    "###BAYES CLASSIFIER FOR Train SET ---- BUILT IN\n",
    "\n",
    "\n",
    "\n",
    "clf = GaussianNB()\n",
    "clf.fit(X_train,y_train)\n",
    "\n",
    "y_train_pred = clf.predict(X_train)\n",
    "\n",
    "train_acc = accuracy_score(y_train,y_train_pred)*100\n",
    "print(\"Train accuracy of Bayes Classifier: \",train_acc)"
   ]
  },
  {
   "cell_type": "code",
   "execution_count": 7,
   "metadata": {},
   "outputs": [
    {
     "name": "stdout",
     "output_type": "stream",
     "text": [
      "Test accuracy of Bayes Classifier:  58.56\n"
     ]
    }
   ],
   "source": [
    "###BAYES CLASSIFIER FOR TEST SET ---- BUILT IN\n",
    "\n",
    "\n",
    "\n",
    "clf = GaussianNB()\n",
    "clf.fit(X_train,y_train)\n",
    "\n",
    "y_test_pred = clf.predict(X_test)\n",
    "\n",
    "test_acc = accuracy_score(y_test,y_test_pred)*100\n",
    "print(\"Test accuracy of Bayes Classifier: \",test_acc)"
   ]
  },
  {
   "cell_type": "code",
   "execution_count": 8,
   "metadata": {},
   "outputs": [],
   "source": [
    "###   K-NN CLASSIFIER FOR TRAIN SET ---- BUILT IN\n",
    "\n",
    "\n",
    "\n",
    "#knn = KNeighborsClassifier(n_neighbors=3)\n",
    "#knn.fit(X_train,y_train)\n",
    "\n",
    "#KNeighborsClassifier(n_neighbors=3, weights='uniform', algorithm='auto', leaf_size=30, p=2, metric='minkowski', metric_params=None, n_jobs=None)\n",
    "\n",
    "#y_train_pred = knn.predict(X_train)\n",
    "\n",
    "#train_acc = accuracy_score(y_train,y_train_pred)*100\n",
    "\n",
    "#print(\"Train accuracy of K-NN classifier for K=3: \",train_acc)"
   ]
  },
  {
   "cell_type": "code",
   "execution_count": 9,
   "metadata": {},
   "outputs": [
    {
     "name": "stdout",
     "output_type": "stream",
     "text": [
      "Test accuracy of K-NN classifier for K=3:  85.41\n"
     ]
    }
   ],
   "source": [
    "###   K-NN CLASSIFIER FOR TEST SET ---- BUILT IN\n",
    "\n",
    "\n",
    "\n",
    "knn = KNeighborsClassifier(n_neighbors=3)\n",
    "knn.fit(X_train,y_train)\n",
    "\n",
    "KNeighborsClassifier(n_neighbors=3, weights='uniform', algorithm='auto', leaf_size=30, p=2, metric='minkowski', metric_params=None, n_jobs=None)\n",
    "\n",
    "y_test_pred = knn.predict(X_test)\n",
    "\n",
    "test_acc = accuracy_score(y_test,y_test_pred)*100\n",
    "\n",
    "print(\"Test accuracy of K-NN classifier for K=3: \",test_acc)"
   ]
  },
  {
   "cell_type": "code",
   "execution_count": 10,
   "metadata": {},
   "outputs": [
    {
     "name": "stdout",
     "output_type": "stream",
     "text": [
      "Shape of Feature Test set Before PCA:  (10000, 784)\n",
      "Shape of Feature Test set After PCA:  (10000, 50)\n",
      "Test accuracy of K-NN classifier for K=3 after PCA:  85.1\n"
     ]
    }
   ],
   "source": [
    "### PCA\n",
    "\n",
    "pca = PCA(n_components=50)\n",
    "\n",
    "X_train_pca = pca.fit_transform(X_train)\n",
    "\n",
    "X_test_pca = pca.transform(X_test)\n",
    "\n",
    "\n",
    "print(\"Shape of Feature Test set Before PCA: \", X_test.shape)\n",
    "print(\"Shape of Feature Test set After PCA: \", X_test_pca.shape)\n",
    "\n",
    "\n",
    "###   K-NN CLASSIFIER FOR TEST SET \n",
    "\n",
    "\n",
    "\n",
    "knn = KNeighborsClassifier(n_neighbors=3)\n",
    "knn.fit(X_train_pca,y_train)\n",
    "\n",
    "KNeighborsClassifier(n_neighbors=3, weights='uniform', algorithm='auto', leaf_size=30, p=2, metric='minkowski', metric_params=None, n_jobs=None)\n",
    "\n",
    "y_test_pred = knn.predict(X_test_pca)\n",
    "\n",
    "test_acc_pca = accuracy_score(y_test,y_test_pred)*100\n",
    "\n",
    "print(\"Test accuracy of K-NN classifier for K=3 after PCA: \",test_acc_pca)\n",
    "\n"
   ]
  },
  {
   "cell_type": "code",
   "execution_count": 11,
   "metadata": {},
   "outputs": [
    {
     "name": "stdout",
     "output_type": "stream",
     "text": [
      "Shape of Feature Test set Before LDA:  (10000, 784)\n",
      "Shape of Feature Test set After LDA:  (10000, 9)\n",
      "Test accuracy of K-NN classifier for K=3 after LDA:  81.39999999999999\n"
     ]
    }
   ],
   "source": [
    "###  LDA\n",
    "\n",
    "\n",
    "lda = LinearDiscriminantAnalysis()\n",
    "\n",
    "X_train_lda = lda.fit_transform(X_train,y_train)\n",
    "\n",
    "X_test_lda = lda.transform(X_test)\n",
    "\n",
    "\n",
    "print(\"Shape of Feature Test set Before LDA: \", X_test.shape)\n",
    "print(\"Shape of Feature Test set After LDA: \", X_test_lda.shape)\n",
    "\n",
    "\n",
    "\n",
    "###   K-NN CLASSIFIER FOR TEST SET \n",
    "\n",
    "\n",
    "knn = KNeighborsClassifier(n_neighbors=3)\n",
    "knn.fit(X_train_lda,y_train)\n",
    "\n",
    "KNeighborsClassifier(n_neighbors=3, weights='uniform', algorithm='auto', leaf_size=30, p=2, metric='minkowski', metric_params=None, n_jobs=None)\n",
    "\n",
    "y_test_pred = knn.predict(X_test_lda)\n",
    "\n",
    "test_acc_lda = accuracy_score(y_test,y_test_pred)*100\n",
    "\n",
    "print(\"Test accuracy of K-NN classifier for K=3 after LDA: \",test_acc_lda)\n",
    "\n",
    "\n",
    "\n"
   ]
  },
  {
   "cell_type": "code",
   "execution_count": null,
   "metadata": {},
   "outputs": [],
   "source": []
  }
 ],
 "metadata": {
  "kernelspec": {
   "display_name": "Python 3",
   "language": "python",
   "name": "python3"
  },
  "language_info": {
   "codemirror_mode": {
    "name": "ipython",
    "version": 3
   },
   "file_extension": ".py",
   "mimetype": "text/x-python",
   "name": "python",
   "nbconvert_exporter": "python",
   "pygments_lexer": "ipython3",
   "version": "3.6.8"
  }
 },
 "nbformat": 4,
 "nbformat_minor": 2
}
